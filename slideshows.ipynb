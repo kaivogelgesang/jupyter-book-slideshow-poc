{
 "cells": [
  {
   "cell_type": "markdown",
   "id": "141fb842",
   "metadata": {
    "slideshow": {
     "slide_type": "slide"
    }
   },
   "source": [
    "# Slideshows\n",
    "\n",
    "See the slideshow button above?\n",
    "If you click it, this page should turn into a [reveal.js](https://revealjs.com/) presentation similar to those powered by [RISE](https://rise.readthedocs.io/en/stable/)"
   ]
  },
  {
   "cell_type": "markdown",
   "id": "ae459879",
   "metadata": {
    "slideshow": {
     "slide_type": "fragment"
    }
   },
   "source": [
    "This is a fragment."
   ]
  },
  {
   "cell_type": "markdown",
   "id": "93ce0167",
   "metadata": {
    "slideshow": {
     "slide_type": "fragment"
    }
   },
   "source": [
    "This is also a fragment!"
   ]
  },
  {
   "cell_type": "markdown",
   "id": "c5fb5dba",
   "metadata": {
    "slideshow": {
     "slide_type": "subslide"
    }
   },
   "source": [
    "This is a sub-slide. It should be below the previous slide."
   ]
  },
  {
   "cell_type": "markdown",
   "id": "b7f92ddd",
   "metadata": {
    "slideshow": {
     "slide_type": "slide"
    }
   },
   "source": [
    "And this is a new slide, which should be in a new stack to the right!"
   ]
  },
  {
   "cell_type": "markdown",
   "id": "fd499886",
   "metadata": {
    "slideshow": {
     "slide_type": "subslide"
    }
   },
   "source": [
    "Slides can have code cells:"
   ]
  },
  {
   "cell_type": "code",
   "execution_count": null,
   "id": "3182227c",
   "metadata": {
    "slideshow": {
     "slide_type": "fragment"
    }
   },
   "outputs": [],
   "source": [
    "print(\"like this!\")"
   ]
  },
  {
   "cell_type": "markdown",
   "id": "c5adf0bf",
   "metadata": {
    "slideshow": {
     "slide_type": "subslide"
    }
   },
   "source": [
    "They should also support MyST Markdown:"
   ]
  },
  {
   "cell_type": "markdown",
   "id": "9b318eb1",
   "metadata": {
    "slideshow": {
     "slide_type": "subslide"
    }
   },
   "source": [
    "```{figure} https://placekitten.com/640/480\n",
    "---\n",
    "name: fig:kitten\n",
    "---\n",
    "A random kiten from [placekitten](https://placekitten.com)\n",
    "```"
   ]
  },
  {
   "cell_type": "markdown",
   "id": "76405cf4",
   "metadata": {
    "slideshow": {
     "slide_type": "subslide"
    }
   },
   "source": [
    ":::{note}\n",
    "Admonitions also work\n",
    ":::"
   ]
  },
  {
   "cell_type": "markdown",
   "id": "ee02423c",
   "metadata": {
    "slideshow": {
     "slide_type": "slide"
    }
   },
   "source": [
    "For now, there is no button or keyboard shortcut to exit the slideshow.\n",
    "You will have to refresh the page to get out ;)"
   ]
  }
 ],
 "metadata": {
  "celltoolbar": "Slideshow",
  "kernelspec": {
   "display_name": "Python 3 (ipykernel)",
   "language": "python",
   "name": "python3"
  },
  "language_info": {
   "codemirror_mode": {
    "name": "ipython",
    "version": 3
   },
   "file_extension": ".py",
   "mimetype": "text/x-python",
   "name": "python",
   "nbconvert_exporter": "python",
   "pygments_lexer": "ipython3",
   "version": "3.11.3"
  }
 },
 "nbformat": 4,
 "nbformat_minor": 5
}
